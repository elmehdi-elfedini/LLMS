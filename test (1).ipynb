{
  "cells": [
    {
      "cell_type": "code",
      "source": [
        "!pip -q install langchain_experimental langchain_core\n",
        "!pip -q install google-generativeai==0.3.1\n",
        "!pip -q install google-ai-generativelanguage==0.4.0\n",
        "!pip -q install langchain-google-genai\n",
        "!pip -q install \"langchain[docarray]\"\n",
        "!pip show langchain langchain-core\n",
        "!pip -q install pypdf"
      ],
      "metadata": {
        "colab": {
          "base_uri": "https://localhost:8080/"
        },
        "id": "Muv0wxgr70fH",
        "outputId": "9b429146-9ef4-429e-ce90-cfcfe1262f04"
      },
      "execution_count": 1,
      "outputs": [
        {
          "output_type": "stream",
          "name": "stdout",
          "text": [
            "\u001b[?25l     \u001b[90m━━━━━━━━━━━━━━━━━━━━━━━━━━━━━━━━━━━━━━━━\u001b[0m \u001b[32m0.0/194.1 kB\u001b[0m \u001b[31m?\u001b[0m eta \u001b[36m-:--:--\u001b[0m\r\u001b[2K     \u001b[91m━━━━━━━━━━━━━━━━━━━━━━━━━\u001b[0m\u001b[90m╺\u001b[0m\u001b[90m━━━━━━━━━━━━━━\u001b[0m \u001b[32m122.9/194.1 kB\u001b[0m \u001b[31m3.6 MB/s\u001b[0m eta \u001b[36m0:00:01\u001b[0m\r\u001b[2K     \u001b[90m━━━━━━━━━━━━━━━━━━━━━━━━━━━━━━━━━━━━━━━━\u001b[0m \u001b[32m194.1/194.1 kB\u001b[0m \u001b[31m3.8 MB/s\u001b[0m eta \u001b[36m0:00:00\u001b[0m\n",
            "\u001b[2K     \u001b[90m━━━━━━━━━━━━━━━━━━━━━━━━━━━━━━━━━━━━━━━━\u001b[0m \u001b[32m274.6/274.6 kB\u001b[0m \u001b[31m7.9 MB/s\u001b[0m eta \u001b[36m0:00:00\u001b[0m\n",
            "\u001b[2K     \u001b[90m━━━━━━━━━━━━━━━━━━━━━━━━━━━━━━━━━━━━━━━━\u001b[0m \u001b[32m812.8/812.8 kB\u001b[0m \u001b[31m8.7 MB/s\u001b[0m eta \u001b[36m0:00:00\u001b[0m\n",
            "\u001b[2K     \u001b[90m━━━━━━━━━━━━━━━━━━━━━━━━━━━━━━━━━━━━━━━━\u001b[0m \u001b[32m86.9/86.9 kB\u001b[0m \u001b[31m8.6 MB/s\u001b[0m eta \u001b[36m0:00:00\u001b[0m\n",
            "\u001b[2K     \u001b[90m━━━━━━━━━━━━━━━━━━━━━━━━━━━━━━━━━━━━━━━━\u001b[0m \u001b[32m53.0/53.0 kB\u001b[0m \u001b[31m5.6 MB/s\u001b[0m eta \u001b[36m0:00:00\u001b[0m\n",
            "\u001b[2K     \u001b[90m━━━━━━━━━━━━━━━━━━━━━━━━━━━━━━━━━━━━━━━━\u001b[0m \u001b[32m1.9/1.9 MB\u001b[0m \u001b[31m14.0 MB/s\u001b[0m eta \u001b[36m0:00:00\u001b[0m\n",
            "\u001b[2K     \u001b[90m━━━━━━━━━━━━━━━━━━━━━━━━━━━━━━━━━━━━━━━━\u001b[0m \u001b[32m144.8/144.8 kB\u001b[0m \u001b[31m10.1 MB/s\u001b[0m eta \u001b[36m0:00:00\u001b[0m\n",
            "\u001b[2K     \u001b[90m━━━━━━━━━━━━━━━━━━━━━━━━━━━━━━━━━━━━━━━━\u001b[0m \u001b[32m49.4/49.4 kB\u001b[0m \u001b[31m3.1 MB/s\u001b[0m eta \u001b[36m0:00:00\u001b[0m\n",
            "\u001b[2K     \u001b[90m━━━━━━━━━━━━━━━━━━━━━━━━━━━━━━━━━━━━━━━━\u001b[0m \u001b[32m146.6/146.6 kB\u001b[0m \u001b[31m3.6 MB/s\u001b[0m eta \u001b[36m0:00:00\u001b[0m\n",
            "\u001b[2K     \u001b[90m━━━━━━━━━━━━━━━━━━━━━━━━━━━━━━━━━━━━━━━━\u001b[0m \u001b[32m137.4/137.4 kB\u001b[0m \u001b[31m4.6 MB/s\u001b[0m eta \u001b[36m0:00:00\u001b[0m\n",
            "\u001b[2K     \u001b[90m━━━━━━━━━━━━━━━━━━━━━━━━━━━━━━━━━━━━━━━━\u001b[0m \u001b[32m215.3/215.3 kB\u001b[0m \u001b[31m4.4 MB/s\u001b[0m eta \u001b[36m0:00:00\u001b[0m\n",
            "\u001b[?25h  Installing build dependencies ... \u001b[?25l\u001b[?25hdone\n",
            "  Getting requirements to build wheel ... \u001b[?25l\u001b[?25hdone\n",
            "  Preparing metadata (pyproject.toml) ... \u001b[?25l\u001b[?25hdone\n",
            "  Building wheel for hnswlib (pyproject.toml) ... \u001b[?25l\u001b[?25hdone\n",
            "Name: langchain\n",
            "Version: 0.1.14\n",
            "Summary: Building applications with LLMs through composability\n",
            "Home-page: https://github.com/langchain-ai/langchain\n",
            "Author: \n",
            "Author-email: \n",
            "License: MIT\n",
            "Location: /usr/local/lib/python3.10/dist-packages\n",
            "Requires: aiohttp, async-timeout, dataclasses-json, jsonpatch, langchain-community, langchain-core, langchain-text-splitters, langsmith, numpy, pydantic, PyYAML, requests, SQLAlchemy, tenacity\n",
            "Required-by: langchain-experimental\n",
            "---\n",
            "Name: langchain-core\n",
            "Version: 0.1.37\n",
            "Summary: Building applications with LLMs through composability\n",
            "Home-page: https://github.com/langchain-ai/langchain\n",
            "Author: \n",
            "Author-email: \n",
            "License: MIT\n",
            "Location: /usr/local/lib/python3.10/dist-packages\n",
            "Requires: jsonpatch, langsmith, packaging, pydantic, PyYAML, requests, tenacity\n",
            "Required-by: langchain, langchain-community, langchain-experimental, langchain-google-genai, langchain-text-splitters\n",
            "\u001b[2K     \u001b[90m━━━━━━━━━━━━━━━━━━━━━━━━━━━━━━━━━━━━━━━━\u001b[0m \u001b[32m286.1/286.1 kB\u001b[0m \u001b[31m4.8 MB/s\u001b[0m eta \u001b[36m0:00:00\u001b[0m\n",
            "\u001b[?25h"
          ]
        }
      ]
    },
    {
      "cell_type": "markdown",
      "metadata": {
        "id": "tIk6mW1zxjfA"
      },
      "source": [
        "1. https://huggingface.co/blog/gemma\n",
        "2. Repo model google/gemma-7b-it is gated. You must be authenticated to access it.\n",
        "3. Create your 'new token' on your huggingface\n",
        "\n",
        "pip install torch accelerate transformers langchain chroma sentence-transformers langchain_community pypdf"
      ]
    },
    {
      "cell_type": "code",
      "source": [
        "#@title Configuration de l'authentification\n",
        "import os\n",
        "import google.generativeai as genai\n",
        "from google.colab import userdata\n",
        "import json\n",
        "os.environ[\"GOOGLE_API_KEY\"] = userdata.get('gemini')\n",
        "genai.configure(api_key=os.environ[\"GOOGLE_API_KEY\"])"
      ],
      "metadata": {
        "id": "oGw44soz1jbx"
      },
      "execution_count": 14,
      "outputs": []
    },
    {
      "cell_type": "code",
      "execution_count": 21,
      "metadata": {
        "colab": {
          "base_uri": "https://localhost:8080/"
        },
        "id": "SKkemFZNxjfH",
        "outputId": "448949aa-1127-4d25-ab27-5801bf835422"
      },
      "outputs": [
        {
          "output_type": "stream",
          "name": "stdout",
          "text": [
            "[Document(page_content=\"1 \\n 15/12/2023 14:33:03  \\nONCOLOGIE --> CONSULTATION ( LABORATOIRE )  \\nMOUNIR BELCADI ABBASSI  \\nPatiente se présente pour controle:   \\n \\nCliniquement:  \\nOMS1 , conjonctives colorées , pas d'ictère  \\nPF: Toux chronique, patiente vue par un pneumo à titre externe, traitement prescrit non acheté par la patiente  \\nCicatrice de mastectomie propre et calme  \\nSein gauche : RAS.  \\nSein droit sans particularité.  \\nLa patiente rapporte toujours de douleurs osseuses diffus es ===> Patiente a raté son RDV pour avis rhumato.  \\nEcho mamo faite le 11/12/2023 :  \\n\\uf0b7 Lésion kystique au niveau de la JQExt du sein droit, classé ACR3  \\n\\uf0b7 Absence d'anomalie suspecte en regard du site de Patey  \\nCAT:  \\nOn continu le controle  \\nPatiente indiscipliné ==> réadresser pour avis rhumato  \\n  \\n19/09/2023 15:34:40   \\nONCOLOGIE --> CONSULTATION ( HOPITAL DE JOUR )   \\nAGARAOUI MARYEM   \\nPatiente se présente pour controle:   \\n \\n \\nCliniquement:  \\n \\nOMS1 , conjonctives colorées , pas d'ictère  \\nPF: Toux chronique.  \\nCicatrice de mastectomie propre et calme  \\nSein gauche : RAS.  \\nSein droit sans particularité.  \\nLa patiente rapporte toujours de douleurs osseuses diffuses ===> Patiente a raté son RDV pour avis rhumato.  \\nTDM TAP faite le 11/08/2023 en comparaison:  \\nRégression quasi -compl ète du foyer de condensation LSD, laissant place à un foyer de DDB kystique et moniliforme \\nsans signe d’impaction mucoide.   \", metadata={'source': '/content/pdfs/JC1.pdf', 'page': 0}), Document(page_content=\"2 \\n Nette régression en nombre et en taille des multiples micronodules pulmonaires bilatéraux, plus marqués autour du \\nfoyer de DDB sus -décrit, d’allure infectieuse non spécifique.  \\nRégression en taille du nodule tissulaire au niveau des parties molles cutanée et sous cutanée du \\nversant externe du site de mastectomie gauche.  \\nAbsence d'anomalie suspecte notamment osseuse d'apparition récente.   \\nStabilité globale du reste de l’imagerie par ailleurs.  \\nCAT:  \\nOn continu le controle avec écho -mammo prévue le 11/12/2023.  \\nJ'adresse la patiente pour avis Pneumo + avis rhumato.  \\n \\n \\n \\n \\n07/07/2023 15:04:47   \\nONCOLOGIE --> CONSULTATION ( RADIOLOGIE )   \\nHAFSSA EL HILALI   \\nPatiente se pesente pour controle  \\nOMS1 , conjonctives colorées , pas d'ictère  \\nCicatrice de mastectomie propre et calme  \\nSein gauche douloureux  \\nSein droit sans particularité  \\nLa patiente rapporte des douleurs osseuses diffuses  \\nOn continue le controle et je demande TDM TAP   \\n06/04/2023 13:11:48   \\nONCOLOGIE --> CONSULTATION ( CENTRE DE DIAGNOSTIC )   \\nADNANE RAZZOUKI   \\nBENJELLOUN SAAD   \\n \\n \\npatiente se pesente pour controle  \\nOMS1 , conjonctives colorées , pas d'ictère  \\nCicatrice de mastectomie propre et calme  \\nSein gauche douloureux  \\nSein droit sans particularité  \\ncat : demande echo -mammo de controle   \\n06/01/2023 15:50:54   \\nONCOLOGIE --> CONSULTATION ( RADIOLOGIE )   \", metadata={'source': '/content/pdfs/JC1.pdf', 'page': 1}), Document(page_content=\"3 \\n MEHDI GOUDIRA   \\npatiente se pesente pour controle  \\nOMS1 ,  conjonctives colorées , pas d'ictère  \\nCicatrice de mastectomie propre et calme  \\nSein droit sans particularité  \\necho -mammo faite le 09/12/2022:  \\nabsence de lesion suspecte au niveau au niveau du site de patey  \\nsein droit acr 1  \\n \\n \\nCAT: on continue le controle   \\n05/07/2022 0:00:00   \\nONCOLOGIE --> CONSULTATION ( CENTRE DE DIAGNOSTIC )   \\nBASMA AABBOUB   \\nDr Vincent  \\n \\nTDM TAP du 06.06.22  \\n \\nApparition d'un foyer de condensation LSD et micronodules centrolobulaires  branchés bilatéraux, faisant évoquer en \\npremier une infection type TBC avec signe d'activité  \\nNodule tissulaire pariétal au niveau du versant externe du site de mastectomie gauche  \\n \\nCA 15 -3: 13  \\n \\nExamen clinique  \\n \\nOMS 1, toux persistante, hémoptysie  \\namaigrissement, asthénique  \\n \\nPatiente adressée en pneumo pour mis au point de TBC  \\nEcho Mammo  \\n  \\n07/06/2022 0:00:00   \\nONCOLOGIE --> CONSULTATION ( CENTRE DE DIAGNOSTIC )   \\nABIR OUFRID   \\nOstéodensitométrie faite le 31/05/2022 à titre externe: ostéopénie  \\nCAT: \\nJ'adresse la patiente en rhumatologie  \\nMettre la patiente sous hormonothérapie type tamoxifène   \\n27/05/2022 0:00:00   \\nONCOLOGIE --> CONSULTATION ( CONSULTATION AU SERVICE )   \\nDIANGO KEITA   \\nDr vincent  \\nPatiente de 40 ans initialement suivie dans le service pour CCI du sein cT4N1Mx Rh+, Her 2 - ayant bénéficié d'une \\nCMT néo adjuvante ( DDC: 14/12/20)   \", metadata={'source': '/content/pdfs/JC1.pdf', 'page': 2}), Document(page_content=\"4 \\n puis Patey le 24/03/21  \\nAnapath faite le 24/03/2021 au CHU :  \\n\\uf0b7  résidu  de carcinome mammaire infiltrant , de grade II de SBR , mesurant histologiquement 2.3 de grand axe  \\n\\uf0b7 Réponse thérapeutique estimé à moins de 50% sous forme de fibrose et d'inflammation  \\n\\uf0b7 Présence du carcinome in situ de grade intermédiaire avec nécrose esti ma à 10 %  \\n\\uf0b7 abse,ce d'embole vasculaire , absence d'EPN , absence de maladie de paget du mamelon , limite profonde est \\nsitué à 0.5 mm du carcinome infiltrant et du carcinoe in situ  \\n\\uf0b7 la limite   interne est située à 0.9 cm du carcinome infiltrant et du carcin ome in situ , les autrtes limites de \\nrésection périphériques sint saines ( plus de 1 cm )  \\n\\uf0b7 Curage : 5N/ 14 N avec effraction capsulaire et effet thérapeutique  \\n\\uf0b7 Stade : ypT2N2Mx  \\nPatiente revue en post opératoire par les gynécologues le 17/05/2021 , rapportan t une aménorrhée de 12 SA d'ou la \\nréalisation d'une échographie pelvienne objectivant une FMFE ,AC+ avec un BIP= 15SA+2J   \\nle dossier a été stafé en RCP gynécologique le 20/05/2021 avec décision   \\n      *Revoir le scanner simulateur : non disponible ( il a é té supprimé )  \\n      *Discuter une ITG .  \\nITG: non autorisé  \\nRelecture du scanner : Lésion en faveur d'une tuberculose  \\nLe dossier a été re staffé en RCP gyneco  pour discuter une chimiothérapie a base de xeloda .  \\nAvis des oncologues : pas de preuves scienti fique .  \\nla patiente à bénéficié d'une echo morpho le 15/06/2021 faite par PR CHARRA : morphologie normale et \\nbiométrie correspond à 18 -19 SA  \\nElle a accouché puis perdu de vue , elle n'a pas bénéficié de RHT , ni HT en adjuvant  \\nActuellement elle se présente en consultation  \\nPlaintes: RAS  \\nOMS1 , conjonctives colorées , pas d'ictère  \\nCicatrice de mastectomie propre et calme  \\nSein droit sans particularité  \\nADP infra centimétrique gauche  \\nCAT \\nTAP+MT  \\nBon echo/mammographie  \\nEchographie pelvienne et/ou Ostéo densitométrie selon la prescription HT disponible  \\nBon DIU  \\nDécision Thérapeutique : On commence l'hormonothérapie type AI + Castration si  \", metadata={'source': '/content/pdfs/JC1.pdf', 'page': 3}), Document(page_content='5 \\n pas de place pour la castration: Hormonothérapie type Tamoxifène   \\n  \\n \\n \\n \\n \\n \\n \\n28/12/2020 0:00:00   \\nONCOLOGIE --> CONSULTATION ( CENTRE DE DIAGNOSTIC )   \\nSOUKAINA ELANSSARI   \\npatiente staffée en RCP le 24/12/20: ok patey  \\npatiente adresser en GOI   \\n14/12/2020 0:00:00   \\nONCOLOGIE --> CONSULTATION ( LABORATOIRE )   \\nMOHAMMED ISMAILI   \\npatiente se présente pour C6 paclitaxel en néoadjuvant  \\nbilan correct  \\nbnne tolerance  \\n \\nok cure  \\n \\npatiente adresée en GO pour faisabilité de Patey   \\n23/11/2020 0:00:00   \\nONCOLOGIE --> CONSULTATION ( HOPITAL DE JOUR )   \\nKHADIJA HINAJE   \\npatiente  se présente pour C5 paclitaxel en néoadjuvant  \\nbilan correct  \\nbnne tolerance  \\nok cure   \\n02/11/2020 0:00:00   \\nONCOLOGIE --> CONSULTATION ( LABORATOIRE )   \\nIMANE STITOU   \\npatiente se présente pour C4 paclitaxel en néoadjuvant  \\nbilan correct  \\nbnne tolerance   \\nok cure   \\n09/10/2020 0:00:00   \\nONCOLOGIE --> CONSULTATION ( HOPITAL DE JOUR )   \\nOUMAIMA TALBI   \\npatiente se présente pour C3 AC 60 en néoadjuvant  \\nbilan correct  \\nbonne tolérance   ', metadata={'source': '/content/pdfs/JC1.pdf', 'page': 4}), Document(page_content='6 \\n  \\nok cure   \\n18/09/2020 0:00:00   \\nONCOLOGIE --> CONSULTATION ( HOPITAL  DE JOUR )   \\nKHADIJA HINAJE   \\npatiente se présente pour C2 AC 60 en néoadjuvant  \\nbilan correct  \\nbonne tolérance  \\n \\ndoxo rupture  \\nok cure EC   \\n15/09/2020 0:00:00   \\nONCOLOGIE --> CONSULTATION ( LABORATOIRE )   \\nOUMAIMA TALBI   \\npatiente  se présente pour C2 AC 60 en néoadjuvant  \\nbilan non fait  \\nrepport de cure  \\n  \\n25/08/2020 0:00:00   \\nONCOLOGIE --> CONSULTATION ( LABORATOIRE )   \\nMOHAMMED ISMAILI   \\npatiente se présente pour C1 AC 60 en néoadjuvant  \\n \\nbilan correct  \\nETT normale FE à 65%  \\neffets  secondaires expliqués  \\n \\ndoxo rupture  \\nok cure EC   \\n28/07/2020 0:00:00   \\nONCOLOGIE --> CONSULTATION ( HOPITAL DE JOUR )   \\nSOUKAINA ELANSSARI   \\n \\n  \\nIDENTITE  : patiente de 37 ans , mariée , OH à SEFROU , ramediste  \\nANTCD  : medic  : RAS  \\n              Chir : jamais opérée  \\n             GO ; G4P4 , non ménopausée  \\n  \\n   ', metadata={'source': '/content/pdfs/JC1.pdf', 'page': 5}), Document(page_content='7 \\n HDM  : remonte à 2 ans par la découverte à l autopalpation   d un nodule du sein gche , motivant la \\npatiente a consulté pour PEC  \\n  \\nECHO –MAMMO 7/11/19 au CR de sefrou  : \\n-sein gche  : -masse du QII   tissulaire faisant 28*9 mm classée ACR5  \\n                     - ADP axillaires homolaterales de 10 mm pour la plus grande suspecte  \\n-sein drt  : RAS  \\n MICROBIOPSIE ECHO GUIDEE FAITE AU CHU LE 06/01/20  : \\n-Carcinome mammaire infiltrant type NOS   de garde II de SBR  \\n- absence de carcinome in situ  \\n-absence d emboles vasculaires  \\n-IHC : RE 80%   /  RP 80%    /  HER 2 -    /  KI67  30%  \\n  \\nTDM  TAP : 18/02/20  :  \\n-2 micronodules pulmonaires à surveiller  \\n-epaississement cutané nodulaire du QII du SG  \\n-lésion kystique ovarienne g auche  \\n-absence d anomalie suspecte à distance  \\n  \\nRCP le 20/02/20  : \\n-Adresser en oncologie pour chimio neoadj  \\n-contraception  \\n  \\nEX CLINIQUE  :  OMS 1  \\n-sein gche  :  nodule du QII   faisant 2 cm *1 cm de la   JQinf  mobile par rapport aux 2 plans , avec \\nretraction mamelonnaire et ulceration du mamelon et presence d un nodule de permetaion  \\n-sein drt  : RAS  \\n  \\nAire gg  : 2 ADP axillaires homolaterales mobiles faisant 1.5 cm et 1 cm  ', metadata={'source': '/content/pdfs/JC1.pdf', 'page': 6}), Document(page_content='8 \\n cT4bN1Mx  \\n  \\nau totale  :  \\npatiente de 37 ans , non ménopausée , qui présente un C MI de garde II de SBR,  IHC ( RE80%   / RP \\n80%/ HER 2 -  / KI67 30%)    luminal B  ,classée c T4bN1Mx  , candidate à une CMT neoadjuvante  \\n \\nDECISION AU STAFF MATINAL  AVEC PR BENBRAHIM  : 3AC 60    /     3 TAXANE   \\n ', metadata={'source': '/content/pdfs/JC1.pdf', 'page': 7})]\n",
            "Medical information from JC1.pdf added to the list\n",
            "\n",
            "Toutes les informations médicales ont été enregistrées dans : patient_data.json\n"
          ]
        }
      ],
      "source": [
        "import os\n",
        "import json\n",
        "from langchain.chains.question_answering import load_qa_chain\n",
        "from langchain_google_genai import ChatGoogleGenerativeAI\n",
        "from langchain.prompts import PromptTemplate\n",
        "from langchain.document_loaders import PyPDFLoader\n",
        "\n",
        "import os\n",
        "import json\n",
        "from langchain.document_loaders import PyPDFLoader\n",
        "\n",
        "safety_settings = [\n",
        "    {\n",
        "        \"category\": \"HARM_CATEGORY_SEXUALLY_EXPLICIT\",\n",
        "        \"threshold\": \"BLOCK_NONE\",\n",
        "    },\n",
        "    {\n",
        "        \"category\": \"HARM_CATEGORY_DANGEROUS_CONTENT\",\n",
        "        \"threshold\": \"BLOCK_NONE\",\n",
        "    },\n",
        "    {\n",
        "        \"category\": \"HARM_CATEGORY_HATE_SPEECH\",\n",
        "        \"threshold\": \"BLOCK_NONE\",\n",
        "    },\n",
        "    {\n",
        "        \"category\": \"HARM_CATEGORY_HARASSMENT\",\n",
        "        \"threshold\": \"BLOCK_NONE\",\n",
        "    },\n",
        "]\n",
        "\n",
        "model = genai.GenerativeModel(model_name=\"gemini-pro\", safety_settings=safety_settings)\n",
        "\n",
        "prompt_template = \"\"\"\n",
        "You are a medical expert assistant. Answer the question as detailed as possible from the provided context,\n",
        "make sure to provide all the details, if the answer is not in provided context just write 'Not specified',\n",
        "and give me this information in a JSON format ,don't provide the wrong answer.\n",
        "\n",
        "Context:\n",
        "{context}\n",
        "\n",
        "Question:\n",
        "{question}\n",
        "\n",
        "Answer:\n",
        "\"\"\"\n",
        "\n",
        "folder_path = \"/content/pdfs\"\n",
        "\n",
        "question = '''\\\n",
        "Please provide the following information in a JSON format with the specified keys:\n",
        "\n",
        "- Patient_Information:\n",
        "  - Name\n",
        "  - Age\n",
        "  - Clinical_Presentation:\n",
        "    - OMS\n",
        "    - Conjonctives\n",
        "    - Ictère\n",
        "    - Symptoms\n",
        "    - Cicatrice_de_mastectomie\n",
        "    - Sein_gauche\n",
        "    - Sein_droit\n",
        "    - ADP_infra_centimétrique_gauche (true or false)\n",
        "  - Medical_History:\n",
        "    - CCI_du_sein:\n",
        "      - Type\n",
        "      - Treatment:\n",
        "        - CMT_néo_adjuvante\n",
        "        - Patey\n",
        "    - Anapath_Results:\n",
        "      - Date\n",
        "      - Results\n",
        "  - Treatment_Information:\n",
        "    - Pneumo_Treatment_Prescribed\n",
        "    - Rhumato_Consultation_Missed (true or false)\n",
        "    - Hormonothérapie\n",
        "    - ITG  (authorized or not)\n",
        "  - Imaging_Results:\n",
        "    - Echo_Morpho:\n",
        "      - Date\n",
        "      - Results (as List)\n",
        "    - Echo_Mamo:\n",
        "      - Date\n",
        "      - Results (as List)\n",
        "    - TDM_TAP:\n",
        "      - Date\n",
        "      - Results (as List)\n",
        "    - TAP+MT (true or false)\n",
        "    - Echographie_Pelvienne (true or false)\n",
        "    - Ostéo_Densitométrie (true or false)\n",
        "    - DIU (true or false)\n",
        "'''\n",
        "\n",
        "patient_data_list = []\n",
        "\n",
        "for filename in os.listdir(folder_path):\n",
        "    if filename.endswith(\".pdf\"):\n",
        "        file_path = os.path.join(folder_path, filename)\n",
        "        loader = PyPDFLoader(file_path)\n",
        "        clinical_context = loader.load()\n",
        "        print(clinical_context)\n",
        "\n",
        "        formatted_prompt = prompt_template.format(context=clinical_context, question=question)\n",
        "        response = model.generate_content(formatted_prompt)\n",
        "\n",
        "        cleaned_json_str = response.text.strip('```json\\n').strip()  # Access the 'content' attribute before stripping\n",
        "        json_dict = json.loads(cleaned_json_str)\n",
        "\n",
        "        json_dict[\"file_name\"] = filename\n",
        "        patient_data_list.append(json_dict)\n",
        "\n",
        "        print(f\"Medical information from {filename} added to the list\")\n",
        "        print()\n",
        "\n",
        "with open('patient_data.json', 'w') as json_file:\n",
        "    json.dump(patient_data_list, json_file, indent=4, ensure_ascii=False)\n",
        "\n",
        "print(\"Toutes les informations médicales ont été enregistrées dans : patient_data.json\")\n"
      ]
    }
  ],
  "metadata": {
    "kernelspec": {
      "display_name": "Python 3",
      "name": "python3"
    },
    "language_info": {
      "codemirror_mode": {
        "name": "ipython",
        "version": 3
      },
      "file_extension": ".py",
      "mimetype": "text/x-python",
      "name": "python",
      "nbconvert_exporter": "python",
      "pygments_lexer": "ipython3",
      "version": "3.11.7"
    },
    "colab": {
      "provenance": []
    }
  },
  "nbformat": 4,
  "nbformat_minor": 0
}